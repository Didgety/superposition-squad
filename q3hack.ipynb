{
 "cells": [
  {
   "cell_type": "code",
   "execution_count": null,
   "id": "0528cb40",
   "metadata": {},
   "outputs": [],
   "source": [
    "import numpy as np\n",
    "\n",
    "from math import pi\n",
    "\n",
    "from qiskit.circuit import QuantumCircuit, Parameter\n",
    "\n",
    "from qiskit.circuit.library import QAOAAnsatz\n",
    "from qiskit.quantum_info import SparsePauliOp\n",
    "\n",
    "from qiskit.primitives import StatevectorEstimator, StatevectorSampler\n",
    "\n",
    "from qiskit_aer.primitives import SamplerV2 as AerSampler\n",
    "from qiskit_aer import AerSimulator\n",
    "\n",
    "from scipy.optimize import minimize\n",
    "\n"
   ]
  },
  {
   "cell_type": "markdown",
   "id": "30085151",
   "metadata": {},
   "source": [
    "$ H(x) = - \\sum_i v_i x_i + A(\\sum_i w_i x_i - C)^2 $\n",
    "\n",
    "$A$ is a penalty constant $>$ max($w_i$)\n",
    "\n",
    "Map binary $x_i = (1 - Z_i) / 2$ into Pauli-Z operators"
   ]
  },
  {
   "cell_type": "code",
   "execution_count": 5,
   "id": "f775ff92",
   "metadata": {},
   "outputs": [],
   "source": [
    "def create_knapsack_hamiltonian(weights, vals, cap, penalty):\n",
    "    n = len(vals)\n",
    "\n",
    "    Q = np.zeros((n, n))\n",
    "    lin = np.zeros(n)\n",
    "\n",
    "    # obj: -v_i x_i\n",
    "    lin -= np.array(vals)\n",
    "    \n",
    "    for i in range(n):\n",
    "        lin[i] += penalty * (weights[i] ** 2 - 2 * cap * weights[i])\n",
    "        for j in range(i + 1, n):\n",
    "            Q[i, j] += 2 * penalty * weights[i] * weights[j]\n",
    "\n",
    "    # const = penalty * cap ** 2\n",
    "\n",
    "    # map to hamiltonian / ising\n",
    "    paulis = []\n",
    "    coeffs = []\n",
    "\n",
    "    for i in range(n):\n",
    "        # linear term\n",
    "        if abs(lin[i]) > 1e-9:\n",
    "            coeffs.append(lin[i] / 2)\n",
    "            paulis.append(\"I\" * (n - i - 1) + \"Z\" + \"I\" * i)\n",
    "\n",
    "    for i in range(n):\n",
    "        for j in range(i + 1, n):\n",
    "            if abs(Q[i, j]) > 1e-9:\n",
    "                coeffs.append(Q[i, j] / 4)\n",
    "                label = [\"I\"] * n\n",
    "                label[n - i - 1] = \"Z\"\n",
    "                label[n - j - 1] = \"Z\"\n",
    "                paulis.append(\"\".join(label))\n",
    "    \n",
    "    hamiltonian = SparsePauliOp.from_list(list(zip(paulis, coeffs)))\n",
    "    return hamiltonian\n",
    "    "
   ]
  },
  {
   "cell_type": "code",
   "execution_count": 6,
   "id": "29d0474b",
   "metadata": {},
   "outputs": [
    {
     "name": "stdout",
     "output_type": "stream",
     "text": [
      "SparsePauliOp(['IIZ', 'IZI', 'ZII', 'IZZ', 'ZIZ', 'ZZI'],\n",
      "              coeffs=[ -82.5+0.j, -107. +0.j, -123. +0.j,   30. +0.j,   40. +0.j,   60. +0.j])\n"
     ]
    }
   ],
   "source": [
    "vals = [5, 4, 6]\n",
    "weights = [2, 3, 4]\n",
    "cap = 5\n",
    "pen = 10 # > max(weights)\n",
    "\n",
    "# problem hamiltonian\n",
    "hamiltonian = create_knapsack_hamiltonian(weights, vals, cap, pen)\n",
    "\n",
    "print(hamiltonian)"
   ]
  },
  {
   "cell_type": "code",
   "execution_count": 16,
   "id": "4cc6cd50",
   "metadata": {},
   "outputs": [],
   "source": [
    "def cost_func(params, ansatz, hamiltonian, estimator):\n",
    "    pub = (ansatz, hamiltonian, params)\n",
    "    cost = estimator.run([pub]).result()[0].data.evs\n",
    "\n",
    "    return cost"
   ]
  },
  {
   "cell_type": "code",
   "execution_count": 14,
   "id": "df9b7a17",
   "metadata": {},
   "outputs": [
    {
     "data": {
      "image/png": "[encoded data removed]",
      "text/plain": [
       "<Figure size 1959.72x284.278 with 1 Axes>"
      ]
     },
     "execution_count": 14,
     "metadata": {},
     "output_type": "execute_result"
    }
   ],
   "source": [
    "ansatz = QAOAAnsatz(hamiltonian, reps=2)\n",
    "ansatz.decompose(reps=2).draw(\"mpl\")"
   ]
  },
  {
   "cell_type": "code",
   "execution_count": 17,
   "id": "2100c839",
   "metadata": {},
   "outputs": [
    {
     "name": "stdout",
     "output_type": "stream",
     "text": [
      "-153.60175046169095\n"
     ]
    }
   ],
   "source": [
    "estimator = StatevectorEstimator()\n",
    "\n",
    "x0 = 2 * np.pi * np.random.rand(ansatz.num_parameters)\n",
    "\n",
    "cost = cost_func(x0, ansatz, hamiltonian, estimator)\n",
    "print(cost)"
   ]
  },
  {
   "cell_type": "code",
   "execution_count": 20,
   "id": "81984ec5",
   "metadata": {},
   "outputs": [
    {
     "name": "stdout",
     "output_type": "stream",
     "text": [
      "Optimal params: [0.96741493 2.50852624 4.47541849 3.69050438]\n",
      "Estimated ground state energy: -163.24496357261444\n"
     ]
    }
   ],
   "source": [
    "res = minimize(cost_func, x0, \n",
    "               args=(ansatz, hamiltonian, estimator),\n",
    "               method=\"COBYLA\")\n",
    "print(\"Optimal params:\", res.x)\n",
    "print(\"Estimated ground state energy:\", res.fun)"
   ]
  },
  {
   "cell_type": "code",
   "execution_count": null,
   "id": "f2855f31",
   "metadata": {},
   "outputs": [
    {
     "name": "stdout",
     "output_type": "stream",
     "text": [
      "<bound method DataBin.values of DataBin()>\n"
     ]
    },
    {
     "name": "stderr",
     "output_type": "stream",
     "text": [
      "c:\\Users\\perso\\Documents\\USC\\q3_hackathon\\.q3hack\\Lib\\site-packages\\qiskit\\primitives\\statevector_sampler.py:163: UserWarning: One of your circuits has no output classical registers and so the result will be empty. Did you mean to add measurement instructions?\n",
      "  warnings.warn(\n"
     ]
    }
   ],
   "source": [
    "sampler = AerSampler()\n",
    "job = sampler.run([(ansatz, res.x)], shots=1024)\n",
    "dist = job.result()[0].data.values\n",
    "\n",
    "print(dist)\n",
    "\n",
    "# for bitstring, prob in dist.items():\n",
    "#     x = [int(b) for b in bitstring[::-1]]\n",
    "#     val = sum(v for v, b in zip(vals, x) if b)\n",
    "#     weight = sum(w for w, b in zip(weights, x) if b)\n",
    "#     print(x, \"val:\", val, \"weight:\", weight, \"prob:\", prob)\n",
    "\n"
   ]
  }
 ],
 "metadata": {
  "kernelspec": {
   "display_name": ".q3hack (3.11.9)",
   "language": "python",
   "name": "python3"
  },
  "language_info": {
   "codemirror_mode": {
    "name": "ipython",
    "version": 3
   },
   "file_extension": ".py",
   "mimetype": "text/x-python",
   "name": "python",
   "nbconvert_exporter": "python",
   "pygments_lexer": "ipython3",
   "version": "3.11.9"
  }
 },
 "nbformat": 4,
 "nbformat_minor": 5
}
