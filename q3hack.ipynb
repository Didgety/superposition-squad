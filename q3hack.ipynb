{
 "cells": [
  {
   "cell_type": "code",
   "execution_count": 1,
   "id": "0528cb40",
   "metadata": {},
   "outputs": [],
   "source": [
    "import numpy as np\n",
    "\n",
    "from math import pi\n",
    "\n",
    "from qiskit.circuit import QuantumCircuit, Parameter\n",
    "\n",
    "from qiskit.circuit.library import QAOAAnsatz\n",
    "from qiskit.quantum_info import SparsePauliOp\n",
    "\n",
    "\n"
   ]
  },
  {
   "cell_type": "markdown",
   "id": "30085151",
   "metadata": {},
   "source": [
    "$ H(x) = - \\sum_i v_i x_i + A(\\sum_i w_i x_i - C)^2 $\n",
    "\n",
    "$A$ is a penalty constant $>$ max($w_i$)\n",
    "\n",
    "Map binary $x_i = (1 - Z_i) / 2$ into Pauli-Z operators"
   ]
  },
  {
   "cell_type": "code",
   "execution_count": 5,
   "id": "f775ff92",
   "metadata": {},
   "outputs": [],
   "source": [
    "def create_knapsack_hamiltonian(weights, vals, cap, penalty):\n",
    "    n = len(vals)\n",
    "\n",
    "    Q = np.zeros((n, n))\n",
    "    lin = np.zeros(n)\n",
    "\n",
    "    # obj: -v_i x_i\n",
    "    lin -= np.array(vals)\n",
    "    \n",
    "    for i in range(n):\n",
    "        lin[i] += penalty * (weights[i] ** 2 - 2 * cap * weights[i])\n",
    "        for j in range(i + 1, n):\n",
    "            Q[i, j] += 2 * penalty * weights[i] * weights[j]\n",
    "\n",
    "    # const = penalty * cap ** 2\n",
    "\n",
    "    # map to hamiltonian / ising\n",
    "    paulis = []\n",
    "    coeffs = []\n",
    "\n",
    "    for i in range(n):\n",
    "        # linear term\n",
    "        if abs(lin[i]) > 1e-9:\n",
    "            coeffs.append(lin[i] / 2)\n",
    "            paulis.append(\"I\" * (n - i - 1) + \"Z\" + \"I\" * i)\n",
    "\n",
    "    for i in range(n):\n",
    "        for j in range(i + 1, n):\n",
    "            if abs(Q[i, j]) > 1e-9:\n",
    "                coeffs.append(Q[i, j] / 4)\n",
    "                label = [\"I\"] * n\n",
    "                label[n - i - 1] = \"Z\"\n",
    "                label[n - j - 1] = \"Z\"\n",
    "                paulis.append(\"\".join(label))\n",
    "    \n",
    "    hamiltonian = SparsePauliOp.from_list(list(zip(paulis, coeffs)))\n",
    "    return hamiltonian\n",
    "    "
   ]
  },
  {
   "cell_type": "code",
   "execution_count": 6,
   "id": "29d0474b",
   "metadata": {},
   "outputs": [
    {
     "name": "stdout",
     "output_type": "stream",
     "text": [
      "SparsePauliOp(['IIZ', 'IZI', 'ZII', 'IZZ', 'ZIZ', 'ZZI'],\n",
      "              coeffs=[ -82.5+0.j, -107. +0.j, -123. +0.j,   30. +0.j,   40. +0.j,   60. +0.j])\n"
     ]
    }
   ],
   "source": [
    "vals = [5, 4, 6]\n",
    "weights = [2, 3, 4]\n",
    "cap = 5\n",
    "pen = 10 # > max(weights)\n",
    "\n",
    "# problem hamiltonian\n",
    "hamiltonian = create_knapsack_hamiltonian(weights, vals, cap, pen)\n",
    "\n",
    "print(hamiltonian)"
   ]
  }
 ],
 "metadata": {
  "kernelspec": {
   "display_name": ".q3hack (3.11.9)",
   "language": "python",
   "name": "python3"
  },
  "language_info": {
   "codemirror_mode": {
    "name": "ipython",
    "version": 3
   },
   "file_extension": ".py",
   "mimetype": "text/x-python",
   "name": "python",
   "nbconvert_exporter": "python",
   "pygments_lexer": "ipython3",
   "version": "3.11.9"
  }
 },
 "nbformat": 4,
 "nbformat_minor": 5
}
