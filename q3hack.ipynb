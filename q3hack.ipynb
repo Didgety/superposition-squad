{
 "cells": [
  {
   "cell_type": "code",
   "execution_count": 557,
   "id": "0528cb40",
   "metadata": {},
   "outputs": [],
   "source": [
    "import numpy as np\n",
    "\n",
    "from collections import defaultdict\n",
    "\n",
    "from math import pi\n",
    "\n",
    "from qiskit import transpile\n",
    "\n",
    "from qiskit.circuit import QuantumCircuit, Parameter\n",
    "\n",
    "from qiskit.circuit.library import QAOAAnsatz\n",
    "from qiskit.quantum_info import SparsePauliOp\n",
    "\n",
    "from qiskit.primitives import StatevectorEstimator, StatevectorSampler\n",
    "\n",
    "from qiskit_aer.primitives import SamplerV2 as AerSampler\n",
    "from qiskit_aer import AerSimulator\n",
    "\n",
    "from scipy.optimize import minimize\n",
    "\n"
   ]
  },
  {
   "cell_type": "markdown",
   "id": "30085151",
   "metadata": {},
   "source": [
    "$ H(x) = - \\sum_i v_i x_i + A(\\sum_i w_i x_i - C)^2 $\n",
    "\n",
    "$A$ is a penalty constant $>$ max($w_i$)\n",
    "\n",
    "Map binary $x_i = (1 - Z_i) / 2$ into Pauli-Z operators"
   ]
  },
  {
   "cell_type": "code",
   "execution_count": null,
   "id": "f775ff92",
   "metadata": {},
   "outputs": [],
   "source": [
    "def INVALID_create_knapsack_hamiltonian(weights, vals, cap, penalty):\n",
    "    n = len(vals)\n",
    "\n",
    "    Q = np.zeros((n, n))\n",
    "    lin = np.zeros(n)\n",
    "\n",
    "    # obj: -v_i x_i\n",
    "    lin -= np.array(vals)\n",
    "    \n",
    "    for i in range(n):\n",
    "        lin[i] += penalty * (weights[i] ** 2 - 2 * cap * weights[i])\n",
    "        for j in range(i + 1, n):\n",
    "            Q[i, j] += 2 * penalty * weights[i] * weights[j]\n",
    "\n",
    "    # const = penalty * cap ** 2\n",
    "\n",
    "    # map to hamiltonian / ising\n",
    "    paulis = []\n",
    "    coeffs = []\n",
    "\n",
    "    for i in range(n):\n",
    "        # linear term\n",
    "        if abs(lin[i]) > 1e-9:\n",
    "            coeffs.append(lin[i] / 2)\n",
    "            paulis.append(\"I\" * (n - i - 1) + \"Z\" + \"I\" * i)\n",
    "\n",
    "    for i in range(n):\n",
    "        for j in range(i + 1, n):\n",
    "            if abs(Q[i, j]) > 1e-9:\n",
    "                coeffs.append(Q[i, j] / 4)\n",
    "                label = [\"I\"] * n\n",
    "                label[n - i - 1] = \"Z\"\n",
    "                label[n - j - 1] = \"Z\"\n",
    "                paulis.append(\"\".join(label))\n",
    "    \n",
    "    hamiltonian = SparsePauliOp.from_list(list(zip(paulis, coeffs)))\n",
    "    return hamiltonian\n",
    "    "
   ]
  },
  {
   "cell_type": "markdown",
   "id": "d4f1bddc",
   "metadata": {},
   "source": [
    "$ x_i = \\frac{1 - Z_i}{2} $\n",
    "\n",
    "Linear Term\n",
    "\n",
    "$ a_i x_i = \\frac{a_i}{2} I - \\frac{a_i}{2} Z_i $\n",
    "\n",
    "Quadratic Term\n",
    "\n",
    "$ b_{ij} x_i x_j = \\frac{b_{ij}}{4} I - \\frac{b_{ij}}{4} Z_i - \\frac{b_{ij}}{4} Z_j + \\frac{b_{ij}}{4} Z_i Z_j$  \n",
    "\n",
    "$ h_i = -\\frac{a_i}{2} - \\frac{1}{4} \\sum_{j \\neq i} b_{ij} $"
   ]
  },
  {
   "cell_type": "code",
   "execution_count": 625,
   "id": "1aa26994",
   "metadata": {},
   "outputs": [],
   "source": [
    "def create_knapsack_hamiltonian(weights, vals, cap, penalty):\n",
    "    n = len(vals)\n",
    "\n",
    "    Q = np.zeros((n, n))\n",
    "    lin = np.zeros(n)\n",
    "\n",
    "    lin -= np.array(vals, dtype=float)\n",
    "\n",
    "    for i in range(n):\n",
    "        lin[i] += penalty * (weights[i] ** 2 - 2 * cap * weights[i])\n",
    "        for j in range(i + 1, n):\n",
    "            Q[i, j] += 2 * penalty * weights[i] * weights[j]\n",
    "    \n",
    "    h = np.zeros(n)\n",
    "    J = {}\n",
    "\n",
    "    h += -lin / 2.0\n",
    "    for i in range(n):\n",
    "        for j in range(i + 1, n):\n",
    "            bij = Q[i, j]\n",
    "            if abs(bij) > 1e-12:\n",
    "                h[i] += -bij / 4.0\n",
    "                h[j] += -bij / 4.0\n",
    "                J[(i, j)] = J.get((i, j), 0.0) + bij / 4.0\n",
    "    \n",
    "    paulis, coeffs = [], []\n",
    "    for i, c in enumerate(h):\n",
    "        if abs(c) > 1e-12:\n",
    "            label = [\"I\"] * n\n",
    "            label[n - i - 1] = \"Z\"\n",
    "            paulis.append(\"\".join(label))\n",
    "            coeffs.append(c)\n",
    "    for (i, j), c in J.items():\n",
    "        if abs(c) > 1e-12:\n",
    "            label = [\"I\"] * n\n",
    "            label[n - i - 1] = \"Z\"\n",
    "            label[n - j - 1] = \"Z\"\n",
    "            paulis.append(\"\".join(label))\n",
    "            coeffs.append(c)\n",
    "\n",
    "    return SparsePauliOp.from_list(list(zip(paulis, coeffs)))"
   ]
  },
  {
   "cell_type": "code",
   "execution_count": 626,
   "id": "29d0474b",
   "metadata": {},
   "outputs": [
    {
     "name": "stdout",
     "output_type": "stream",
     "text": [
      "SparsePauliOp(['IIZ', 'IZI', 'ZII', 'IZZ', 'ZIZ', 'ZZI'],\n",
      "              coeffs=[ 6.5+0.j,  8. +0.j, 11. +0.j, 12. +0.j, 16. +0.j, 24. +0.j])\n"
     ]
    }
   ],
   "source": [
    "vals = [5, 4, 6]\n",
    "weights = [2, 3, 4]\n",
    "cap = 5\n",
    "pen = 4#sum(vals) #10 # > max(weights)\n",
    "\n",
    "# problem hamiltonian\n",
    "hamiltonian = create_knapsack_hamiltonian(weights, vals, cap, pen)\n",
    "\n",
    "print(hamiltonian)"
   ]
  },
  {
   "cell_type": "code",
   "execution_count": 627,
   "id": "4cc6cd50",
   "metadata": {},
   "outputs": [],
   "source": [
    "def cost_func(params, ansatz, hamiltonian, estimator):\n",
    "    pub = (ansatz, hamiltonian, params)\n",
    "    cost = estimator.run([pub]).result()[0].data.evs\n",
    "\n",
    "    return cost"
   ]
  },
  {
   "cell_type": "code",
   "execution_count": 628,
   "id": "df9b7a17",
   "metadata": {},
   "outputs": [
    {
     "data": {
      "image/png": "[encoded data removed]",
      "text/plain": [
       "<Figure size 1541.66x284.278 with 1 Axes>"
      ]
     },
     "execution_count": 628,
     "metadata": {},
     "output_type": "execute_result"
    }
   ],
   "source": [
    "ansatz = QAOAAnsatz(hamiltonian, reps=2)\n",
    "ansatz.decompose(reps=2).draw(\"mpl\")"
   ]
  },
  {
   "cell_type": "code",
   "execution_count": 629,
   "id": "2100c839",
   "metadata": {},
   "outputs": [
    {
     "name": "stdout",
     "output_type": "stream",
     "text": [
      "-8.854968437906582\n"
     ]
    }
   ],
   "source": [
    "estimator = StatevectorEstimator()\n",
    "\n",
    "x0 = 2 * np.pi * np.random.rand(ansatz.num_parameters)\n",
    "\n",
    "cost = cost_func(x0, ansatz, hamiltonian, estimator)\n",
    "print(cost)"
   ]
  },
  {
   "cell_type": "code",
   "execution_count": 630,
   "id": "81984ec5",
   "metadata": {},
   "outputs": [
    {
     "name": "stdout",
     "output_type": "stream",
     "text": [
      "Optimal params: [1.23445397 4.08907603 1.25420366 1.82601087]\n",
      "Estimated ground state energy: -25.111429871633597\n"
     ]
    }
   ],
   "source": [
    "res = minimize(cost_func, x0, \n",
    "               args=(ansatz, hamiltonian, estimator),\n",
    "               method=\"COBYLA\")\n",
    "print(\"Optimal params:\", res.x)\n",
    "print(\"Estimated ground state energy:\", res.fun)"
   ]
  },
  {
   "cell_type": "code",
   "execution_count": 635,
   "id": "f2855f31",
   "metadata": {},
   "outputs": [
    {
     "name": "stdout",
     "output_type": "stream",
     "text": [
      "{'010': 211, '100': 439, '011': 844, '101': 448, '111': 49, '001': 27, '110': 22, '000': 8}\n"
     ]
    }
   ],
   "source": [
    "qc = ansatz.decompose(reps=2) # =3)\n",
    "qc = qc.copy()\n",
    "qc.measure_all()\n",
    "bound = qc.assign_parameters(res.x)\n",
    "\n",
    "backend = AerSimulator()\n",
    "tqc = transpile(bound, backend)\n",
    "job = backend.run(tqc, shots=2048)\n",
    "counts = job.result().get_counts()\n",
    "\n",
    "print(counts)"
   ]
  },
  {
   "cell_type": "code",
   "execution_count": 636,
   "id": "936d0589",
   "metadata": {},
   "outputs": [
    {
     "name": "stdout",
     "output_type": "stream",
     "text": [
      "\n",
      "Best (feasible) sample:\n",
      "  items picked: [0, 1]\n",
      "  bitstring   : 110\n",
      "  value/weight: 9 / 5 (capacity 5)\n",
      "  sample prob : 0.412109375\n"
     ]
    }
   ],
   "source": [
    "total = sum(counts.values())\n",
    "dist = {int(bitstr, 2): cnt / total for bitstr, cnt in counts.items()}\n",
    "\n",
    "def bits_from_int(k, width):\n",
    "    b = format(k, f\"0{width}b\")\n",
    "    return list(reversed([int(ch) for ch in b]))\n",
    "\n",
    "def score(x_bits):\n",
    "    val = sum(v for v, b in zip(vals, x_bits) if b)\n",
    "    wt = sum(w for w, b in zip(weights, x_bits) if b)\n",
    "    return val, wt\n",
    "\n",
    "n = len(vals)\n",
    "\n",
    "best = (None, -1, None, 0.0)  # (x_bits, value, weight, prob)\n",
    "for k, p in dist.items():\n",
    "    x = bits_from_int(k, n)\n",
    "    val, wt = score(x)\n",
    "    if wt <= cap and val > best[1]:\n",
    "        best = (x, val, wt, float(p))\n",
    "\n",
    "\n",
    "x_bits, best_val, best_wt, best_prob = best\n",
    "picked = [i for i, b in enumerate(x_bits or []) if b]\n",
    "\n",
    "print(\"\\nBest (feasible) sample:\")\n",
    "print(\"  items picked:\", picked)\n",
    "print(\"  bitstring   :\", ''.join(map(str, x_bits or [])))\n",
    "print(\"  value/weight:\", best_val, \"/\", best_wt, f\"(capacity {cap})\")\n",
    "print(\"  sample prob :\", best_prob)"
   ]
  },
  {
   "cell_type": "code",
   "execution_count": 637,
   "id": "e88e2b9c",
   "metadata": {},
   "outputs": [
    {
     "name": "stdout",
     "output_type": "stream",
     "text": [
      "{2: 0.10302734375, 4: 0.21435546875, 3: 0.412109375, 5: 0.21875, 7: 0.02392578125, 1: 0.01318359375, 6: 0.0107421875, 0: 0.00390625}\n"
     ]
    }
   ],
   "source": [
    "print(dist)"
   ]
  },
  {
   "cell_type": "code",
   "execution_count": null,
   "id": "5e693aa4",
   "metadata": {},
   "outputs": [],
   "source": []
  }
 ],
 "metadata": {
  "kernelspec": {
   "display_name": ".q3hack (3.11.9)",
   "language": "python",
   "name": "python3"
  },
  "language_info": {
   "codemirror_mode": {
    "name": "ipython",
    "version": 3
   },
   "file_extension": ".py",
   "mimetype": "text/x-python",
   "name": "python",
   "nbconvert_exporter": "python",
   "pygments_lexer": "ipython3",
   "version": "3.11.9"
  }
 },
 "nbformat": 4,
 "nbformat_minor": 5
}
