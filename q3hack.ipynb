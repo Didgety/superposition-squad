{
 "cells": [
  {
   "cell_type": "code",
   "execution_count": null,
   "id": "0528cb40",
   "metadata": {},
   "outputs": [],
   "source": [
    "from math import pi\n",
    "\n",
    "from qiskit.circuit import QuantumCircuit, Parameter\n",
    "\n",
    "from qiskit.circuit.library import efficient_su2, TwoLocal, NLocal, CCXGate, CRXGate, CRZGate, RXGate\n"
   ]
  }
 ],
 "metadata": {
  "kernelspec": {
   "display_name": ".q3hack (3.11.9)",
   "language": "python",
   "name": "python3"
  },
  "language_info": {
   "name": "python",
   "version": "3.11.9"
  }
 },
 "nbformat": 4,
 "nbformat_minor": 5
}
