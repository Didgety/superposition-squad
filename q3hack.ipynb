{
 "cells": [
  {
   "cell_type": "code",
<<<<<<< Updated upstream
   "execution_count": 1,
=======
   "execution_count": 5,
>>>>>>> Stashed changes
   "id": "0528cb40",
   "metadata": {},
   "outputs": [],
   "source": [
    "import numpy as np\n",
    "\n",
    "from math import pi\n",
    "\n",
    "from qiskit.circuit import QuantumCircuit, Parameter\n",
    "\n",
    "from qiskit.circuit.library import QAOAAnsatz\n",
    "from qiskit.quantum_info import SparsePauliOp\n",
    "\n",
    "\n"
   ]
  },
  {
   "cell_type": "markdown",
   "id": "30085151",
   "metadata": {},
   "source": [
    "$ H(x) = - \\sum_i v_i x_i + A(\\sum_i w_i x_i - C)^2 $\n",
    "\n",
    "$A$ is a penalty constant $>$ max($w_i$)\n",
    "\n",
    "Map binary $x_i = (1 - Z_i) / 2$ into Pauli-Z operators"
   ]
  },
  {
   "cell_type": "code",
   "execution_count": 6,
   "id": "f775ff92",
   "metadata": {},
   "outputs": [],
   "source": [
    "def create_knapsack_hamiltonian(weights, vals, cap, penalty):\n",
    "    n = len(vals)\n",
    "\n",
    "    Q = np.zeros((n, n))\n",
    "    lin = np.zeros(n)\n",
    "\n",
    "    # obj: -v_i x_i\n",
    "    lin -= np.array(vals)\n",
    "    \n",
    "    for i in range(n):\n",
    "        lin[i] += penalty * (weights[i] ** 2 - 2 * cap * weights[i])\n",
    "        for j in range(i + 1, n):\n",
    "            Q[i, j] += 2 * penalty * weights[i] * weights[j]\n",
    "\n",
    "    # const = penalty * cap ** 2\n",
    "\n",
    "    # map to hamiltonian / ising\n",
    "    paulis = []\n",
    "    coeffs = []\n",
    "\n",
    "    for i in range(n):\n",
    "        # linear term\n",
    "        if abs(lin[i]) > 1e-9:\n",
    "            coeffs.append(lin[i] / 2)\n",
    "            paulis.append(\"I\" * (n - i - 1) + \"Z\" + \"I\" * i)\n",
    "\n",
    "    for i in range(n):\n",
    "        for j in range(i + 1, n):\n",
    "            if abs(Q[i, j]) > 1e-9:\n",
    "                coeffs.append(Q[i, j] / 4)\n",
    "                label = [\"I\"] * n\n",
    "                label[n - i - 1] = \"Z\"\n",
    "                label[n - j - 1] = \"Z\"\n",
    "                paulis.append(\"\".join(label))\n",
    "    \n",
    "    hamiltonian = SparsePauliOp.from_list(list(zip(paulis, coeffs)))\n",
    "    return hamiltonian\n",
    "    "
   ]
  },
  {
   "cell_type": "code",
   "execution_count": 14,
   "id": "29d0474b",
   "metadata": {},
   "outputs": [
    {
     "name": "stdout",
     "output_type": "stream",
     "text": [
      "SparsePauliOp(['IIZ', 'IZI', 'ZII', 'IZZ', 'ZIZ', 'ZZI'],\n",
      "              coeffs=[ -82.5+0.j, -107. +0.j, -123. +0.j,   30. +0.j,   40. +0.j,   60. +0.j])\n"
     ]
    }
   ],
   "source": [
    "vals = [5, 4, 6]\n",
    "weights = [2, 3, 4]\n",
    "cap = 5\n",
    "pen = 10 # > max(weights)\n",
    "\n",
    "# problem hamiltonian\n",
    "hamiltonian = create_knapsack_hamiltonian(weights, vals, cap, pen)\n",
    "print(hamiltonian)"
   ]
<<<<<<< Updated upstream
=======
  },
  {
   "cell_type": "code",
   "execution_count": 15,
   "id": "4cc6cd50",
   "metadata": {},
   "outputs": [],
   "source": [
    "def cost_func(params, ansatz, hamiltonian, estimator):\n",
    "    pub = (ansatz, hamiltonian, params)\n",
    "    cost = estimator.run([pub]).result()[0].data.evs\n",
    "\n",
    "    return cost"
   ]
  },
  {
   "cell_type": "code",
   "execution_count": 16,
   "id": "df9b7a17",
   "metadata": {},
   "outputs": [
    {
     "data": {
      "image/png": "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",
      "text/plain": [
       "<Figure size 1959.72x284.278 with 1 Axes>"
      ]
     },
     "execution_count": 16,
     "metadata": {},
     "output_type": "execute_result"
    }
   ],
   "source": [
    "ansatz = QAOAAnsatz(hamiltonian, reps=2)\n",
    "ansatz.decompose(reps=2).draw(\"mpl\")"
   ]
  },
  {
   "cell_type": "code",
   "execution_count": 17,
   "id": "2100c839",
   "metadata": {},
   "outputs": [
    {
     "name": "stdout",
     "output_type": "stream",
     "text": [
      "20.766489490475195\n"
     ]
    }
   ],
   "source": [
    "estimator = StatevectorEstimator()\n",
    "\n",
    "x0 = 2 * np.pi * np.random.rand(ansatz.num_parameters)\n",
    "\n",
    "cost = cost_func(x0, ansatz, hamiltonian, estimator)\n",
    "print(cost)"
   ]
  },
  {
   "cell_type": "code",
   "execution_count": 18,
   "id": "81984ec5",
   "metadata": {},
   "outputs": [
    {
     "name": "stdout",
     "output_type": "stream",
     "text": [
      "Optimal params: [5.26685096 1.04392009 2.85632883 5.35888894]\n",
      "Estimated ground state energy: -100.25339660634873\n"
     ]
    }
   ],
   "source": [
    "res = minimize(cost_func, x0, \n",
    "               args=(ansatz, hamiltonian, estimator),\n",
    "               method=\"COBYLA\")\n",
    "print(\"Optimal params:\", res.x)\n",
    "print(\"Estimated ground state energy:\", res.fun)"
   ]
  },
  {
   "cell_type": "code",
   "execution_count": 19,
   "id": "f2855f31",
   "metadata": {},
   "outputs": [
    {
     "name": "stdout",
     "output_type": "stream",
     "text": [
      "{'111': 7, '011': 13, '100': 153, '001': 63, '110': 79, '101': 125, '000': 159, '010': 425}\n"
     ]
    }
   ],
   "source": [
    "qc = ansatz.decompose(reps=3)\n",
    "qc = qc.copy()\n",
    "qc.measure_all()\n",
    "bound = qc.assign_parameters(res.x)\n",
    "\n",
    "backend = AerSimulator()\n",
    "tqc = transpile(bound, backend)\n",
    "job = backend.run(tqc, shots=1024)\n",
    "counts = job.result().get_counts()\n",
    "\n",
    "print(counts)"
   ]
  },
  {
   "cell_type": "code",
   "execution_count": 20,
   "id": "936d0589",
   "metadata": {},
   "outputs": [
    {
     "name": "stdout",
     "output_type": "stream",
     "text": [
      "\n",
      "Best (feasible) sample:\n",
      "  items picked: [0, 1]\n",
      "  bitstring   : 110\n",
      "  value/weight: 9 / 5 (capacity 5)\n",
      "  sample prob : 0.0126953125\n"
     ]
    }
   ],
   "source": [
    "total = sum(counts.values())\n",
    "dist = {int(bitstr, 2): cnt / total for bitstr, cnt in counts.items()}\n",
    "\n",
    "def bits_from_int(k, width):\n",
    "    b = format(k, f\"0{width}b\")\n",
    "    return list(reversed([int(ch) for ch in b]))\n",
    "\n",
    "def score(x_bits):\n",
    "    val = sum(v for v, b in zip(vals, x_bits) if b)\n",
    "    wt = sum(w for w, b in zip(weights, x_bits) if b)\n",
    "    return val, wt\n",
    "\n",
    "n = len(vals)\n",
    "\n",
    "best = (None, -1, None, 0.0)  # (x_bits, value, weight, prob)\n",
    "for k, p in dist.items():\n",
    "    x = bits_from_int(k, n)\n",
    "    val, wt = score(x)\n",
    "    if wt <= cap and val > best[1]:\n",
    "        best = (x, val, wt, float(p))\n",
    "\n",
    "\n",
    "x_bits, best_val, best_wt, best_prob = best\n",
    "picked = [i for i, b in enumerate(x_bits or []) if b]\n",
    "\n",
    "print(\"\\nBest (feasible) sample:\")\n",
    "print(\"  items picked:\", picked)\n",
    "print(\"  bitstring   :\", ''.join(map(str, x_bits or [])))\n",
    "print(\"  value/weight:\", best_val, \"/\", best_wt, f\"(capacity {cap})\")\n",
    "print(\"  sample prob :\", best_prob)"
   ]
  },
  {
   "cell_type": "code",
   "execution_count": 21,
   "id": "e88e2b9c",
   "metadata": {},
   "outputs": [
    {
     "name": "stdout",
     "output_type": "stream",
     "text": [
      "{7: 0.0068359375, 3: 0.0126953125, 4: 0.1494140625, 1: 0.0615234375, 6: 0.0771484375, 5: 0.1220703125, 0: 0.1552734375, 2: 0.4150390625}\n"
     ]
    }
   ],
   "source": [
    "print(dist)"
   ]
  },
  {
   "cell_type": "markdown",
   "id": "165ae62e",
   "metadata": {},
   "source": [
    "# the loop to find penalty"
   ]
  },
  {
   "cell_type": "code",
   "execution_count": null,
   "id": "e4f10978",
   "metadata": {},
   "outputs": [
    {
     "name": "stdout",
     "output_type": "stream",
     "text": [
      "\n",
      "Best (feasible) sample across all penalties:\n",
      "  Penalty      : 3.5\n",
      "  items picked: [0, 1]\n",
      "  bitstring   : 110\n",
      "  value/weight: 9 / 5 (capacity 5)\n",
      "  sample prob : 0.109375\n"
     ]
    },
    {
     "data": {
      "text/plain": [
       "0"
      ]
     },
     "execution_count": 36,
     "metadata": {},
     "output_type": "execute_result"
    }
   ],
   "source": [
    "vals = [5, 4, 6]\n",
    "weights = [2, 3, 4]\n",
    "cap = 5\n",
    "# CREATING array of possible penalty values\n",
    "penalties = np.linspace(3.5, 5.5, 10)\n",
    "\n",
    "\n",
    "\n",
    "#CREATING array to track the best values across all the penalties tested\n",
    "results = []\n",
    "best_run = (None, None, -float(\"inf\"))\n",
    "\n",
    "# problem hamiltonian\n",
    "# TRANSALTING ham prob to parse through array\n",
    "hammies = []\n",
    "for pens in penalties:\n",
    "    hams = create_knapsack_hamiltonian(weights, vals, cap, pens) #create the hamils\n",
    "    hammies.append(hams) #store hamils because we paranoid \n",
    "\n",
    "    ansatz1 = QAOAAnsatz(hams, reps=2) #run the ansatz coz jai did \n",
    "#QUESTION\n",
    "    #estimator = StatevectorEstimator() # does this need to be loop?\n",
    "    x0 = 2 * np.pi * np.random.rand(ansatz1.num_parameters) # best to keep this loop not sure if it changes(?)\n",
    "    # cost = cost_func(x0, ansatz, hamiltonian, estimator) #for debug \n",
    "    res1 = minimize(cost_func, x0, \n",
    "               args=(ansatz1, hams, estimator),\n",
    "               method=\"COBYLA\") # assuming this solves the hamil w/cobyla\n",
    "\n",
    "    qc1 = ansatz1.decompose(reps=3)\n",
    "    qc1 = qc1.copy()\n",
    "    qc1.measure_all()\n",
    "    bound = qc1.assign_parameters(res1.x)\n",
    "\n",
    "    backend = AerSimulator()\n",
    "    tqc = transpile(bound, backend)\n",
    "    job1 = backend.run(tqc, shots=1024)\n",
    "    counts1 = job1.result().get_counts()\n",
    "\n",
    "    total1 = sum(counts1.values())\n",
    "    dist1 = {int(bitstr, 2): cnt / total1 for bitstr, cnt in counts1.items()}\n",
    "\n",
    "    n1 = len(vals)\n",
    "\n",
    "    best1 = (None, -1, None, 0.0)  # (x_bits, value, weight, prob)\n",
    "    for k, p in dist1.items():\n",
    "        x = bits_from_int(k, n1)\n",
    "        val, wt = score(x)\n",
    "        if wt <= cap and val > best1[1]: # check best within penalty value\n",
    "            best1 = (x, val, wt, float(p))\n",
    "            results.append((pens, *best1, res1))\n",
    "        if best1[1] > best_run[2]: # check best across penalty values\n",
    "            best_run = (pens, best1, best1[1])\n",
    "\n",
    "pens_best, (x_bits_best, best_val, best_wt, best_prob), _ = best_run\n",
    "picked1 = [i for i, b in enumerate(x_bits_best or []) if b]\n",
    "\n",
    "print(\"\\nBest (feasible) sample across all penalties:\")\n",
    "print(\"  Penalty      :\", pens_best)\n",
    "print(\"  items picked:\", picked1)\n",
    "print(\"  bitstring   :\", ''.join(map(str, x_bits_best or [])))\n",
    "print(\"  value/weight:\", best_val, \"/\", best_wt, f\"(capacity {cap})\")\n",
    "print(\"  sample prob :\", best_prob)\n",
    "os.system('say \"WHOOO HOOO!\"')\n",
    "    "
   ]
  },
  {
   "cell_type": "code",
   "execution_count": null,
   "id": "35d7ae16",
   "metadata": {},
   "outputs": [
    {
     "data": {
      "text/plain": [
       "0"
      ]
     },
     "execution_count": 38,
     "metadata": {},
     "output_type": "execute_result"
    }
   ],
   "source": [
    "import os\n",
    "os.system('say \"!\"')"
   ]
  },
  {
   "cell_type": "code",
   "execution_count": null,
   "id": "2a914f77",
   "metadata": {},
   "outputs": [],
   "source": []
>>>>>>> Stashed changes
  }
 ],
 "metadata": {
  "kernelspec": {
   "display_name": ".q3hack (3.11.9)",
   "language": "python",
   "name": "python3"
  },
  "language_info": {
   "codemirror_mode": {
    "name": "ipython",
    "version": 3
   },
   "file_extension": ".py",
   "mimetype": "text/x-python",
   "name": "python",
   "nbconvert_exporter": "python",
   "pygments_lexer": "ipython3",
   "version": "3.11.9"
  }
 },
 "nbformat": 4,
 "nbformat_minor": 5
}
